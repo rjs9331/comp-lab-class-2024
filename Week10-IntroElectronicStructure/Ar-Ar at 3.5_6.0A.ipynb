{
 "cells": [
  {
   "cell_type": "code",
   "execution_count": 8,
   "id": "4ba87a5b-7ece-4f12-b694-4a9fea35d6cc",
   "metadata": {},
   "outputs": [],
   "source": [
    "# Ignore this block -- it's for the documentation build\n",
    "try:\n",
    "    import os, sys\n",
    "    sys.path.insert(1, os.path.abspath('/home/runner/work/psi4/psi4/code/objdir/stage//usr/local/psi4/lib/'))\n",
    "except ImportError:\n",
    "    pass\n",
    "\n",
    "# This is the important part\n",
    "import psi4"
   ]
  },
  {
   "cell_type": "code",
   "execution_count": 9,
   "id": "8eca5ba0-e42f-41ed-81f6-9a091d6d6f22",
   "metadata": {},
   "outputs": [
    {
     "data": {
      "text/plain": [
       "PosixPath('outputAr.dat')"
      ]
     },
     "execution_count": 9,
     "metadata": {},
     "output_type": "execute_result"
    }
   ],
   "source": [
    "psi4.set_output_file('outputAr.dat', False)"
   ]
  },
  {
   "cell_type": "code",
   "execution_count": 10,
   "id": "52a631d5-ff78-492c-b3bb-c9a69ad52ffc",
   "metadata": {},
   "outputs": [
    {
     "data": {
      "text/plain": [
       "-76.0266327350902"
      ]
     },
     "execution_count": 10,
     "metadata": {},
     "output_type": "execute_result"
    }
   ],
   "source": [
    "#! Sample HF/cc-pVDZ H2O Computation\n",
    "\n",
    "psi4.set_memory('500 MB')\n",
    "\n",
    "h2o = psi4.geometry(\"\"\"\n",
    "O\n",
    "H 1 0.96\n",
    "H 1 0.96 2 104.5\n",
    "\"\"\")\n",
    "\n",
    "psi4.energy('scf/cc-pvdz')"
   ]
  },
  {
   "cell_type": "code",
   "execution_count": 11,
   "id": "8c5b9303-31dc-4847-9524-b36a3730f942",
   "metadata": {},
   "outputs": [
    {
     "data": {
      "text/plain": [
       "-38.92533462893707"
      ]
     },
     "execution_count": 11,
     "metadata": {},
     "output_type": "execute_result"
    }
   ],
   "source": [
    "#! Sample UHF/6-31G** CH2 Computation\n",
    "\n",
    "R = 1.075\n",
    "A = 133.93\n",
    "\n",
    "ch2 = psi4.geometry(\"\"\"\n",
    "0 3\n",
    "C\n",
    "H 1 {0}\n",
    "H 1 {0} 2 {1}\n",
    "\"\"\".format(R, A)\n",
    ")\n",
    "\n",
    "psi4.set_options({'reference': 'uhf'})\n",
    "psi4.energy('scf/6-31g**')"
   ]
  },
  {
   "cell_type": "code",
   "execution_count": 12,
   "id": "e6eee780-9622-47b5-925c-d7d122df5bd4",
   "metadata": {},
   "outputs": [
    {
     "name": "stdout",
     "output_type": "stream",
     "text": [
      "Optimizer: Optimization complete!\n"
     ]
    },
    {
     "data": {
      "text/plain": [
       "-76.02703272937481"
      ]
     },
     "execution_count": 12,
     "metadata": {},
     "output_type": "execute_result"
    }
   ],
   "source": [
    "psi4.set_options({'reference': 'rhf'})\n",
    "psi4.optimize('scf/cc-pvdz', molecule=h2o)"
   ]
  },
  {
   "cell_type": "code",
   "execution_count": 15,
   "id": "776b8094-9029-470f-a29e-0c7b4ec56a74",
   "metadata": {},
   "outputs": [],
   "source": [
    "scf_e, scf_wfn = psi4.frequency('scf/cc-pvdz', molecule=h2o, return_wfn=True)"
   ]
  },
  {
   "cell_type": "code",
   "execution_count": 16,
   "id": "b43e219c-08a5-4723-a510-c4a1ea999386",
   "metadata": {},
   "outputs": [],
   "source": [
    "dimer = psi4.geometry(\"\"\"\n",
    "0 1\n",
    "C   0.000000  -0.667578  -2.124659\n",
    "C   0.000000   0.667578  -2.124659\n",
    "H   0.923621  -1.232253  -2.126185\n",
    "H  -0.923621  -1.232253  -2.126185\n",
    "H  -0.923621   1.232253  -2.126185\n",
    "H   0.923621   1.232253  -2.126185\n",
    "--\n",
    "0 1\n",
    "C   0.000000   0.000000   2.900503\n",
    "C   0.000000   0.000000   1.693240\n",
    "H   0.000000   0.000000   0.627352\n",
    "H   0.000000   0.000000   3.963929\n",
    "units angstrom\n",
    "\"\"\")"
   ]
  },
  {
   "cell_type": "code",
   "execution_count": 17,
   "id": "386d211d-033a-46b2-9442-d0f4215c18e9",
   "metadata": {},
   "outputs": [
    {
     "data": {
      "text/plain": [
       "-0.0022355823909805178"
      ]
     },
     "execution_count": 17,
     "metadata": {},
     "output_type": "execute_result"
    }
   ],
   "source": [
    "psi4.set_options({'scf_type': 'df',\n",
    "                  'freeze_core': True})\n",
    "\n",
    "psi4.energy('sapt0/jun-cc-pvdz', molecule=dimer)"
   ]
  },
  {
   "cell_type": "code",
   "execution_count": 19,
   "id": "b0511f75-c4dd-4aea-a1e5-7fbb67cf10de",
   "metadata": {},
   "outputs": [
    {
     "name": "stdout",
     "output_type": "stream",
     "text": [
      "CP-corrected CCSD(T)/aug-cc-pVDZ Interaction Energies\n",
      "\n",
      "\n",
      "          R [Ang]                 E_int [kcal/mol]       \n",
      "---------------------------------------------------------\n",
      "            3.5                        0.169820\n",
      "            3.6                        0.037518\n",
      "            3.7                        -0.042931\n",
      "            3.8                        -0.089134\n",
      "            3.9                        -0.113090\n",
      "            4.0                        -0.122889\n",
      "            4.1                        -0.123921\n",
      "            4.2                        -0.119738\n",
      "            4.3                        -0.112652\n",
      "            4.4                        -0.104146\n",
      "            4.5                        -0.095152\n",
      "            4.6                        -0.086236\n",
      "            4.7                        -0.077730\n",
      "            4.8                        -0.069808\n",
      "            4.9                        -0.062548\n",
      "            5.0                        -0.055968\n",
      "            5.1                        -0.050049\n",
      "            5.2                        -0.044753\n",
      "            5.3                        -0.040030\n",
      "            5.4                        -0.035830\n",
      "            5.5                        -0.032099\n",
      "            5.6                        -0.028789\n",
      "            5.7                        -0.025853\n",
      "            5.8                        -0.023248\n",
      "            5.9                        -0.020936\n",
      "            6.0                        -0.018882\n"
     ]
    }
   ],
   "source": [
    "#! Example potential energy surface scan and CP-correction for Ar2\n",
    "\n",
    "Ar2_geometry = \"\"\"\n",
    "Ar\n",
    "--\n",
    "Ar 1 {0}\n",
    "\"\"\"\n",
    "\n",
    "Rvals = [3.5, 3.6, 3.7, 3.8, 3.9, 4.0, 4.1, 4.2, 4.3, 4.4, 4.5, 4.6, 4.7, 4.8, 4.9, 5.0, 5.1, 5.2, 5.3, 5.4, 5.5, 5.6, 5.7, 5.8, 5.9, 6.0]\n",
    "\n",
    "psi4.set_options({'freeze_core': True})\n",
    "\n",
    "# Initialize a blank dictionary of counterpoise corrected energies\n",
    "# (Need this for the syntax below to work)\n",
    "\n",
    "ecp = {}\n",
    "\n",
    "for R in Rvals:\n",
    "    Ar2 = psi4.geometry(Ar2_geometry.format(R))\n",
    "    ecp[R] = psi4.energy('ccsd(t)/aug-cc-pvdz', bsse_type='cp', molecule=Ar2)\n",
    "\n",
    "# Prints to screen\n",
    "print(\"CP-corrected CCSD(T)/aug-cc-pVDZ Interaction Energies\\n\\n\")\n",
    "print(\"          R [Ang]                 E_int [kcal/mol]       \")\n",
    "print(\"---------------------------------------------------------\")\n",
    "for R in Rvals:\n",
    "    e = ecp[R] * psi4.constants.hartree2kcalmol\n",
    "    print(\"            {:3.1f}                        {:1.6f}\".format(R, e))\n",
    "\n",
    "# Prints to output.dat\n",
    "psi4.core.print_out(\"CP-corrected CCSD(T)/aug-cc-pVDZ Interaction Energies\\n\\n\")\n",
    "psi4.core.print_out(\"          R [Ang]                 E_int [kcal/mol]       \\n\")\n",
    "psi4.core.print_out(\"---------------------------------------------------------\\n\")\n",
    "for R in Rvals:\n",
    "    e = ecp[R] * psi4.constants.hartree2kcalmol\n",
    "    psi4.core.print_out(\"            {:3.1f}                        {:1.6f}\\n\".format(R, e))"
   ]
  },
  {
   "cell_type": "code",
   "execution_count": 20,
   "id": "5dc59d34-3646-4fa9-9211-34c8a7dad3a4",
   "metadata": {},
   "outputs": [
    {
     "name": "stdout",
     "output_type": "stream",
     "text": [
      "Fitted sigma: 3.6417 Å\n",
      "Fitted epsilon: 0.1201 kcal/mol\n"
     ]
    },
    {
     "data": {
      "image/png": "[encoded data removed]",
      "text/plain": [
       "<Figure size 800x600 with 1 Axes>"
      ]
     },
     "metadata": {},
     "output_type": "display_data"
    }
   ],
   "source": [
    "import numpy as np\n",
    "import matplotlib.pyplot as plt\n",
    "from scipy.optimize import curve_fit\n",
    "\n",
    "# Define the Lennard-Jones potential function\n",
    "def lj(r, sigma, eps):\n",
    "    return 4 * eps * ((sigma / r) ** 12 - (sigma / r) ** 6)\n",
    "\n",
    "# Your new data (R in Angstroms and E_int in kcal/mol)\n",
    "distances = np.array([3.5, 3.6, 3.7, 3.8, 3.9, 4.0, 4.1, 4.2, 4.3, 4.4, 4.5, 4.6, \n",
    "                      4.7, 4.8, 4.9, 5.0, 5.1, 5.2, 5.3, 5.4, 5.5, 5.6, 5.7, 5.8, \n",
    "                      5.9, 6.0])\n",
    "energies = np.array([0.169820, 0.037518, -0.042931, -0.089134, -0.113090, -0.122889, \n",
    "                     -0.123921, -0.119738, -0.112652, -0.104146, -0.095152, -0.086236, \n",
    "                     -0.077730, -0.069808, -0.062548, -0.055968, -0.050049, -0.044753, \n",
    "                     -0.040030, -0.035830, -0.032099, -0.028789, -0.025853, -0.023248, \n",
    "                     -0.020936, -0.018882])\n",
    "\n",
    "# Fit the data to the Lennard-Jones potential using curve_fit\n",
    "# Initial guesses for sigma and epsilon (rough estimates based on the data)\n",
    "popt, pcov = curve_fit(lj, distances, energies, p0=[3.4, 0.01])\n",
    "\n",
    "# Extract the fitted parameters sigma and eps\n",
    "sigma_fit, eps_fit = popt\n",
    "\n",
    "# Print the fitted parameters\n",
    "print(f\"Fitted sigma: {sigma_fit:.4f} Å\")\n",
    "print(f\"Fitted epsilon: {eps_fit:.4f} kcal/mol\")\n",
    "\n",
    "# Plot the data and the fitted curve\n",
    "plt.figure(figsize=(8, 6))\n",
    "plt.plot(distances, energies, 'o', label='Experimental Data', markersize=6, color='b')  # Data points\n",
    "plt.plot(distances, lj(distances, *popt), '--', label=f'Fitted Lennard-Jones Curve', color='r')  # Fitted curve\n",
    "\n",
    "# Customize the plot\n",
    "plt.title('Energy vs Distance for Two Argon Molecules')\n",
    "plt.xlabel('Distance (Å)')\n",
    "plt.ylabel('Energy (kcal/mol)')\n",
    "plt.legend()\n",
    "plt.grid(True)\n",
    "\n",
    "# Show the plot\n",
    "plt.show()\n"
   ]
  },
  {
   "cell_type": "code",
   "execution_count": null,
   "id": "5a9e89c6-03d1-48b3-a83d-3426af9ee169",
   "metadata": {},
   "outputs": [],
   "source": []
  }
 ],
 "metadata": {
  "kernelspec": {
   "display_name": "lab_env_2024",
   "language": "python",
   "name": "lab_env_2024"
  },
  "language_info": {
   "codemirror_mode": {
    "name": "ipython",
    "version": 3
   },
   "file_extension": ".py",
   "mimetype": "text/x-python",
   "name": "python",
   "nbconvert_exporter": "python",
   "pygments_lexer": "ipython3",
   "version": "3.9.12"
  }
 },
 "nbformat": 4,
 "nbformat_minor": 5
}
