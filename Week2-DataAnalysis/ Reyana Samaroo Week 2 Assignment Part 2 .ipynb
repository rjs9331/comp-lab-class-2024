{
 "cells": [
  {
   "cell_type": "code",
   "execution_count": 2,
   "id": "cf8f7064-b738-4a80-b8c2-7c877ecac5ac",
   "metadata": {},
   "outputs": [
    {
     "name": "stdout",
     "output_type": "stream",
     "text": [
      "Total number of hydrogen bonds: 57\n",
      "Number of helical amino acids: 18\n"
     ]
    }
   ],
   "source": [
    "# Import necessary libraries\n",
    "import mdtraj as md\n",
    "\n",
    "# Part (a): Read in the ubiquitin structure\n",
    "pdb_file = 'Data/1UBQ_processed.pdb'  # Change this to the path of your PDB file\n",
    "trajectory = md.load(pdb_file)\n",
    "\n",
    "# Part (b): Print the total number of hydrogen bonds\n",
    "# mdtraj has a built-in function to find hydrogen bonds\n",
    "h_bonds = md.baker_hubbard(trajectory, freq=0.1, periodic=False)\n",
    "\n",
    "print(f'Total number of hydrogen bonds: {len(h_bonds)}')\n",
    "\n",
    "# Part (c): Compute the number of helical amino acids\n",
    "# mdtraj provides secondary structure analysis using DSSP\n",
    "dssp = md.compute_dssp(trajectory)\n",
    "\n",
    "# Find residues that are helical ('H' represents alpha-helix, 'G' represents 3_10-helix, 'I' represents pi-helix)\n",
    "helical_residues = sum([1 for ss in dssp[0] if ss in ['H', 'G', 'I']])\n",
    "\n",
    "print(f'Number of helical amino acids: {helical_residues}')\n"
   ]
  },
  {
   "cell_type": "code",
   "execution_count": null,
   "id": "40cbdeb1-4c13-4e40-ad0c-0e8c73d3486e",
   "metadata": {},
   "outputs": [],
   "source": []
  }
 ],
 "metadata": {
  "kernelspec": {
   "display_name": "lab_env_2024",
   "language": "python",
   "name": "lab_env_2024"
  },
  "language_info": {
   "codemirror_mode": {
    "name": "ipython",
    "version": 3
   },
   "file_extension": ".py",
   "mimetype": "text/x-python",
   "name": "python",
   "nbconvert_exporter": "python",
   "pygments_lexer": "ipython3",
   "version": "3.9.12"
  }
 },
 "nbformat": 4,
 "nbformat_minor": 5
}
