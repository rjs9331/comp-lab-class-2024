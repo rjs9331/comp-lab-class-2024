{
 "cells": [
  {
   "cell_type": "code",
   "execution_count": 1,
   "id": "41fbfb08-cf75-4698-9f94-46e7044db6fc",
   "metadata": {},
   "outputs": [
    {
     "ename": "UnicodeDecodeError",
     "evalue": "'utf-8' codec can't decode byte 0xcb in position 3: invalid continuation byte",
     "output_type": "error",
     "traceback": [
      "\u001b[0;31m---------------------------------------------------------------------------\u001b[0m",
      "\u001b[0;31mUnicodeDecodeError\u001b[0m                        Traceback (most recent call last)",
      "Cell \u001b[0;32mIn[1], line 19\u001b[0m\n\u001b[1;32m     16\u001b[0m     \u001b[38;5;28;01mreturn\u001b[39;00m np\u001b[38;5;241m.\u001b[39marray(data)\n\u001b[1;32m     18\u001b[0m \u001b[38;5;66;03m# Read the data\u001b[39;00m\n\u001b[0;32m---> 19\u001b[0m data \u001b[38;5;241m=\u001b[39m read_xvg(file_path)\n\u001b[1;32m     21\u001b[0m \u001b[38;5;66;03m# Extract time in ps and convert to ns\u001b[39;00m\n\u001b[1;32m     22\u001b[0m time_ps \u001b[38;5;241m=\u001b[39m data[:, \u001b[38;5;241m0\u001b[39m]\n",
      "Cell \u001b[0;32mIn[1], line 12\u001b[0m, in \u001b[0;36mread_xvg\u001b[0;34m(file_path)\u001b[0m\n\u001b[1;32m     10\u001b[0m data \u001b[38;5;241m=\u001b[39m []\n\u001b[1;32m     11\u001b[0m \u001b[38;5;28;01mwith\u001b[39;00m \u001b[38;5;28mopen\u001b[39m(file_path, \u001b[38;5;124m'\u001b[39m\u001b[38;5;124mr\u001b[39m\u001b[38;5;124m'\u001b[39m) \u001b[38;5;28;01mas\u001b[39;00m file:\n\u001b[0;32m---> 12\u001b[0m     \u001b[38;5;28;01mfor\u001b[39;00m line \u001b[38;5;129;01min\u001b[39;00m file:\n\u001b[1;32m     13\u001b[0m         \u001b[38;5;66;03m# Skip header lines that start with # or @\u001b[39;00m\n\u001b[1;32m     14\u001b[0m         \u001b[38;5;28;01mif\u001b[39;00m \u001b[38;5;129;01mnot\u001b[39;00m line\u001b[38;5;241m.\u001b[39mstartswith((\u001b[38;5;124m\"\u001b[39m\u001b[38;5;124m#\u001b[39m\u001b[38;5;124m\"\u001b[39m, \u001b[38;5;124m\"\u001b[39m\u001b[38;5;124m@\u001b[39m\u001b[38;5;124m\"\u001b[39m)):\n\u001b[1;32m     15\u001b[0m             data\u001b[38;5;241m.\u001b[39mappend([\u001b[38;5;28mfloat\u001b[39m(val) \u001b[38;5;28;01mfor\u001b[39;00m val \u001b[38;5;129;01min\u001b[39;00m line\u001b[38;5;241m.\u001b[39msplit()])\n",
      "File \u001b[0;32m<frozen codecs>:322\u001b[0m, in \u001b[0;36mdecode\u001b[0;34m(self, input, final)\u001b[0m\n",
      "\u001b[0;31mUnicodeDecodeError\u001b[0m: 'utf-8' codec can't decode byte 0xcb in position 3: invalid continuation byte"
     ]
    }
   ],
   "source": [
    "# Import necessary libraries\n",
    "import numpy as np\n",
    "import matplotlib.pyplot as plt\n",
    "\n",
    "# Part (a): Read in the data file\n",
    "file_path = \"Data/1hz3_T310.stepid25000000.every100ps.nowater.xtc\"\n",
    "\n",
    "# Define function to read the .xvg file\n",
    "def read_xvg(file_path):\n",
    "    data = []\n",
    "    with open(file_path, 'r') as file:\n",
    "        for line in file:\n",
    "            # Skip header lines that start with # or @\n",
    "            if not line.startswith((\"#\", \"@\")):\n",
    "                data.append([float(val) for val in line.split()])\n",
    "    return np.array(data)\n",
    "\n",
    "# Read the data\n",
    "data = read_xvg(file_path)\n",
    "\n",
    "# Extract time in ps and convert to ns\n",
    "time_ps = data[:, 0]\n",
    "time_ns = time_ps / 1000  # Convert ps to ns\n",
    "\n",
    "# Extract quantities (assuming there are 6 quantities after the time column)\n",
    "quantities = data[:, 1:]  # Slice columns after time\n",
    "\n",
    "# Part (b): Make 6 separate plots for each quantity vs time (in ns)\n",
    "quantity_labels = [\n",
    "    \"Potential Energy (kJ/mol)\", \"Kinetic Energy (kJ/mol)\", \n",
    "    \"Total Energy (kJ/mol)\", \"Temperature (K)\", \n",
    "    \"Pressure (bar)\", \"Volume (nm^3)\"\n",
    "]\n",
    "\n",
    "plt.figure(figsize=(15, 12))\n",
    "\n",
    "for i in range(6):\n",
    "    plt.subplot(3, 2, i + 1)\n",
    "    plt.plot(time_ns, quantities[:, i], label=quantity_labels[i], color=f\"C{i}\")\n",
    "    plt.xlabel(\"Time (ns)\")\n",
    "    plt.ylabel(quantity_labels[i])\n",
    "    plt.title(f\"{quantity_labels[i]} vs Time\")\n",
    "    plt.legend()\n",
    "\n",
    "plt.tight_layout()\n",
    "plt.show()\n",
    "\n",
    "# Part (c): Plot Kinetic Energy and Temperature on the same plot\n",
    "fig, ax1 = plt.subplots(figsize=(8, 6))\n",
    "\n",
    "# Plot temperature with left y-axis\n",
    "ax1.plot(time_ns, quantities[:, 3], 'b-', label=\"Temperature (K)\")\n",
    "ax1.set_xlabel(\"Time (ns)\")\n",
    "ax1.set_ylabel(\"Temperature (K)\", color='b')\n",
    "ax1.tick_params('y', colors='b')\n",
    "\n",
    "# Create second y-axis for kinetic energy\n",
    "ax2 = ax1.twinx()\n",
    "ax2.plot(time_ns, quantities[:, 1], 'r-', label=\"Kinetic Energy (kJ/mol)\")\n",
    "ax2.set_ylabel(\"Kinetic Energy (kJ/mol)\", color='r')\n",
    "ax2.tick_params('y', colors='r')\n",
    "\n",
    "plt.title(\"Kinetic Energy and Temperature vs Time\")\n",
    "fig.tight_layout()\n",
    "plt.show()\n"
   ]
  },
  {
   "cell_type": "code",
   "execution_count": null,
   "id": "faaaa0f0-f48e-4c5a-8c13-7d4ea258e11a",
   "metadata": {},
   "outputs": [],
   "source": []
  },
  {
   "cell_type": "code",
   "execution_count": null,
   "id": "96877cfd-d44f-4038-a71d-52adfc341c1b",
   "metadata": {},
   "outputs": [],
   "source": []
  },
  {
   "cell_type": "code",
   "execution_count": null,
   "id": "daad24c0-16d5-4f1f-a770-18235dbfb423",
   "metadata": {},
   "outputs": [],
   "source": []
  }
 ],
 "metadata": {
  "kernelspec": {
   "display_name": "Python 3 (ipykernel)",
   "language": "python",
   "name": "python3"
  },
  "language_info": {
   "codemirror_mode": {
    "name": "ipython",
    "version": 3
   },
   "file_extension": ".py",
   "mimetype": "text/x-python",
   "name": "python",
   "nbconvert_exporter": "python",
   "pygments_lexer": "ipython3",
   "version": "3.11.7"
  }
 },
 "nbformat": 4,
 "nbformat_minor": 5
}
