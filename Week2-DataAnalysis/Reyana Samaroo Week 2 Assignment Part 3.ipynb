{
 "cells": [
  {
   "cell_type": "code",
   "execution_count": 1,
   "id": "41fbfb08-cf75-4698-9f94-46e7044db6fc",
   "metadata": {},
   "outputs": [
    {
     "ename": "ModuleNotFoundError",
     "evalue": "No module named 'mdtraj'",
     "output_type": "error",
     "traceback": [
      "\u001b[0;31m---------------------------------------------------------------------------\u001b[0m",
      "\u001b[0;31mModuleNotFoundError\u001b[0m                       Traceback (most recent call last)",
      "Cell \u001b[0;32mIn[1], line 3\u001b[0m\n\u001b[1;32m      1\u001b[0m \u001b[38;5;66;03m# Import necessary libraries\u001b[39;00m\n\u001b[1;32m      2\u001b[0m \u001b[38;5;66;03m# Import necessary libraries\u001b[39;00m\n\u001b[0;32m----> 3\u001b[0m \u001b[38;5;28;01mimport\u001b[39;00m \u001b[38;5;21;01mmdtraj\u001b[39;00m \u001b[38;5;28;01mas\u001b[39;00m \u001b[38;5;21;01mmd\u001b[39;00m\n\u001b[1;32m      4\u001b[0m \u001b[38;5;28;01mimport\u001b[39;00m \u001b[38;5;21;01mnumpy\u001b[39;00m \u001b[38;5;28;01mas\u001b[39;00m \u001b[38;5;21;01mnp\u001b[39;00m\n\u001b[1;32m      5\u001b[0m \u001b[38;5;28;01mimport\u001b[39;00m \u001b[38;5;21;01mmatplotlib\u001b[39;00m\u001b[38;5;21;01m.\u001b[39;00m\u001b[38;5;21;01mpyplot\u001b[39;00m \u001b[38;5;28;01mas\u001b[39;00m \u001b[38;5;21;01mplt\u001b[39;00m\n",
      "\u001b[0;31mModuleNotFoundError\u001b[0m: No module named 'mdtraj'"
     ]
    }
   ],
   "source": [
    "# Import necessary libraries\n",
    "# Import necessary libraries\n",
    "import mdtraj as md\n",
    "import numpy as np\n",
    "import matplotlib.pyplot as plt\n",
    "\n",
    "# Part (a): Read in the MD trajectory of beta-amyloid\n",
    "trajectory_file = 'Data/beta_amyloid.xtc'  # Replace with the correct .xtc trajectory file path\n",
    "topology_file = 'Data/beta_amyloid.pdb'    # Replace with the correct topology file path (e.g., .pdb or .gro)\n",
    "\n",
    "# Load the trajectory using the topology file\n",
    "traj = md.load(trajectory_file, top=topology_file)\n",
    "\n",
    "# Print some information about the trajectory\n",
    "print(f'Number of frames: {traj.n_frames}')\n",
    "print(f'Number of atoms: {traj.n_atoms}')\n",
    "print(f'Time step: {traj.timestep} ps')\n",
    "\n",
    "# Part (b): Compute the end-to-end distance and radius of gyration at each time step\n",
    "# End-to-end distance is calculated between the first and last atom in the chain\n",
    "atom_indices = traj.topology.select(\"backbone\")  # Select backbone atoms\n",
    "\n",
    "# Compute end-to-end distance: distance between first and last backbone atom\n",
    "end_to_end_distances = md.compute_distances(traj, [[atom_indices[0], atom_indices[-1]]])\n",
    "\n",
    "# Compute radius of gyration for each frame\n",
    "radius_of_gyration = md.compute_rg(traj)\n",
    "\n",
    "# Part (c): Plot the end-to-end distance and radius of gyration vs time on the same plot\n",
    "time_ns = traj.time / 1000  # Convert time to nanoseconds if the time is in picoseconds\n",
    "\n",
    "plt.figure(figsize=(10, 6))\n",
    "plt.plot(time_ns, end_to_end_distances, label='End-to-End Distance (nm)', color='b')\n",
    "plt.plot(time_ns, radius_of_gyration, label='Radius of Gyration (nm)', color='r')\n",
    "plt.xlabel('Time (ns)')\n",
    "plt.ylabel('Distance (nm)')\n",
    "plt.title('End-to-End Distance and Radius of Gyration vs Time')\n",
    "plt.legend()\n",
    "plt.grid(True)\n",
    "plt.show()\n",
    "\n",
    "# Part (d): Plot normalized histograms of the end-to-end distance and radius of gyration\n",
    "\n",
    "# End-to-end distance histogram\n",
    "plt.figure(figsize=(12, 5))\n",
    "\n",
    "plt.subplot(1, 2, 1)\n",
    "plt.hist(end_to_end_distances, bins=50, density=True, color='b', alpha=0.7)\n",
    "plt.xlabel('End-to-End Distance (nm)')\n",
    "plt.ylabel('Probability Density')\n",
    "plt.title('Normalized Histogram of End-to-End Distance')\n",
    "\n",
    "# Radius of gyration histogram\n",
    "plt.subplot(1, 2, 2)\n",
    "plt.hist(radius_of_gyration, bins=50, density=True, color='r', alpha=0.7)\n",
    "plt.xlabel('Radius of Gyration (nm)')\n",
    "plt.ylabel('Probability Density')\n",
    "plt.title('Normalized Histogram of Radius of Gyration')\n",
    "\n",
    "plt.tight_layout()\n",
    "plt.show()\n",
    "\n"
   ]
  },
  {
   "cell_type": "code",
   "execution_count": null,
   "id": "faaaa0f0-f48e-4c5a-8c13-7d4ea258e11a",
   "metadata": {},
   "outputs": [],
   "source": []
  },
  {
   "cell_type": "code",
   "execution_count": null,
   "id": "96877cfd-d44f-4038-a71d-52adfc341c1b",
   "metadata": {},
   "outputs": [],
   "source": []
  },
  {
   "cell_type": "code",
   "execution_count": null,
   "id": "daad24c0-16d5-4f1f-a770-18235dbfb423",
   "metadata": {},
   "outputs": [],
   "source": []
  }
 ],
 "metadata": {
  "kernelspec": {
   "display_name": "lab_env_2024",
   "language": "python",
   "name": "lab_env_2024"
  },
  "language_info": {
   "codemirror_mode": {
    "name": "ipython",
    "version": 3
   },
   "file_extension": ".py",
   "mimetype": "text/x-python",
   "name": "python",
   "nbconvert_exporter": "python",
   "pygments_lexer": "ipython3",
   "version": "3.9.12"
  }
 },
 "nbformat": 4,
 "nbformat_minor": 5
}
