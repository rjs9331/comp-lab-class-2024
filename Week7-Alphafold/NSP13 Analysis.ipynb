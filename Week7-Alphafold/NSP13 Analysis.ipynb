{
 "cells": [
  {
   "cell_type": "code",
   "execution_count": 4,
   "id": "85206692-99d7-4f64-b878-2d49eccc9829",
   "metadata": {},
   "outputs": [
    {
     "name": "stdout",
     "output_type": "stream",
     "text": [
      "Amino acids within 0.5 nm of RNA phosphates: [PRO284, GLY285, THR286, GLY287, LYS288, SER289, GLN404, ARG443, GLY538, ARG567]\n",
      "Amino acids within 0.5 nm of uracil oxygens: [GLY282, PRO283, PRO284, GLY285, THR286, GLY287, LYS288, SER289, GLN404, ARG443, GLN537, GLY538, ARG567]\n"
     ]
    }
   ],
   "source": [
    "import mdtraj as md\n",
    "import numpy as np\n",
    "\n",
    "# Load the trajectory (PDB)\n",
    "trajectory = md.load('6zsl.pdb')\n",
    "\n",
    "# Select phosphate atoms (assuming they are labeled 'P')\n",
    "phosphate_indices = trajectory.top.select('name P')\n",
    "\n",
    "# Find all atoms within 0.5 nm of the phosphate atoms\n",
    "nearby_atoms = md.compute_neighbors(trajectory, 0.5, phosphate_indices)[0]\n",
    "\n",
    "# Filter out water molecules (assuming chainid 0 is non-water)\n",
    "nearby_residues = np.unique([trajectory.top.atom(i).residue.index for i in nearby_atoms if trajectory.top.atom(i).residue.chain.index == 0])\n",
    "\n",
    "# Select uracil oxygen atoms (assuming O2 and O4 are uracil oxygen names)\n",
    "uracil_oxygen_indices = trajectory.top.select('name O4 or name O2')\n",
    "\n",
    "# Find all atoms within 0.5 nm of the uracil oxygen atoms\n",
    "nearby_atoms_uracil = md.compute_neighbors(trajectory, 0.5, uracil_oxygen_indices)[0]\n",
    "\n",
    "# Filter out water molecules\n",
    "nearby_residues_uracil = np.unique([trajectory.top.atom(i).residue.index for i in nearby_atoms_uracil if trajectory.top.atom(i).residue.chain.index == 0])\n",
    "\n",
    "# Output the results\n",
    "print(\"Amino acids within 0.5 nm of RNA phosphates:\", [trajectory.top.residue(r) for r in nearby_residues])\n",
    "print(\"Amino acids within 0.5 nm of uracil oxygens:\", [trajectory.top.residue(r) for r in nearby_residues_uracil])\n"
   ]
  },
  {
   "cell_type": "code",
   "execution_count": null,
   "id": "5ccffa45-e73f-48ae-a870-7cf64c2e1750",
   "metadata": {},
   "outputs": [],
   "source": []
  }
 ],
 "metadata": {
  "kernelspec": {
   "display_name": "lab_env_2024",
   "language": "python",
   "name": "lab_env_2024"
  },
  "language_info": {
   "codemirror_mode": {
    "name": "ipython",
    "version": 3
   },
   "file_extension": ".py",
   "mimetype": "text/x-python",
   "name": "python",
   "nbconvert_exporter": "python",
   "pygments_lexer": "ipython3",
   "version": "3.9.12"
  }
 },
 "nbformat": 4,
 "nbformat_minor": 5
}
