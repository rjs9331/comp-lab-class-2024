{
 "cells": [
  {
   "cell_type": "code",
   "execution_count": 15,
   "id": "8d519771-d5db-49be-8f39-c6d0106171d7",
   "metadata": {},
   "outputs": [
    {
     "name": "stdout",
     "output_type": "stream",
     "text": [
      "MSD values (timeseries): [-2.05343693e-11  1.56026787e+00  1.91919313e+00 ...  2.20433970e+01\n",
      "  2.18105733e+01  2.18218457e+01]\n",
      "At temperature 1.5 K, MSD first crosses 1 at time 1.000 seconds.\n",
      "MSD values (timeseries): [-2.05343693e-11  1.56026787e+00  1.91919313e+00 ...  2.20433970e+01\n",
      "  2.18105733e+01  2.18218457e+01]\n",
      "At temperature 1.0 K, MSD first crosses 1 at time 1.000 seconds.\n",
      "MSD values (timeseries): [-2.05343693e-11  1.56026787e+00  1.91919313e+00 ...  2.20433970e+01\n",
      "  2.18105733e+01  2.18218457e+01]\n",
      "At temperature 0.9 K, MSD first crosses 1 at time 1.000 seconds.\n",
      "MSD values (timeseries): [-2.05343693e-11  1.56026787e+00  1.91919313e+00 ...  2.20433970e+01\n",
      "  2.18105733e+01  2.18218457e+01]\n",
      "At temperature 0.8 K, MSD first crosses 1 at time 1.000 seconds.\n",
      "MSD values (timeseries): [-2.05343693e-11  1.56026787e+00  1.91919313e+00 ...  2.20433970e+01\n",
      "  2.18105733e+01  2.18218457e+01]\n",
      "At temperature 0.7 K, MSD first crosses 1 at time 1.000 seconds.\n",
      "MSD values (timeseries): [-2.05343693e-11  1.56026787e+00  1.91919313e+00 ...  2.20433970e+01\n",
      "  2.18105733e+01  2.18218457e+01]\n",
      "At temperature 0.65 K, MSD first crosses 1 at time 1.000 seconds.\n",
      "MSD values (timeseries): [-2.05343693e-11  1.56026787e+00  1.91919313e+00 ...  2.20433970e+01\n",
      "  2.18105733e+01  2.18218457e+01]\n",
      "At temperature 0.6 K, MSD first crosses 1 at time 1.000 seconds.\n",
      "MSD values (timeseries): [-2.05343693e-11  1.56026787e+00  1.91919313e+00 ...  2.20433970e+01\n",
      "  2.18105733e+01  2.18218457e+01]\n",
      "At temperature 0.55 K, MSD first crosses 1 at time 1.000 seconds.\n",
      "MSD values (timeseries): [-2.05343693e-11  1.56026787e+00  1.91919313e+00 ...  2.20433970e+01\n",
      "  2.18105733e+01  2.18218457e+01]\n",
      "At temperature 0.5 K, MSD first crosses 1 at time 1.000 seconds.\n",
      "MSD values (timeseries): [-2.05343693e-11  1.56026787e+00  1.91919313e+00 ...  2.20433970e+01\n",
      "  2.18105733e+01  2.18218457e+01]\n",
      "At temperature 0.475 K, MSD first crosses 1 at time 1.000 seconds.\n"
     ]
    },
    {
     "data": {
      "image/png": "[encoded data removed]",
      "text/plain": [
       "<Figure size 800x600 with 1 Axes>"
      ]
     },
     "metadata": {},
     "output_type": "display_data"
    }
   ],
   "source": [
    "import numpy as np\n",
    "import MDAnalysis as mda\n",
    "from MDAnalysis.analysis import msd\n",
    "import matplotlib.pyplot as plt\n",
    "import glob\n",
    "\n",
    "# Load trajectory files and topology file\n",
    "trajectory_files = glob.glob(\"../Inputs/prod/*kalj*.xyz\")\n",
    "topology_file = glob.glob(\"../Inputs/equil/*kalj*.lammpstrj\")[0]\n",
    "\n",
    "# Load the universe with the topology and trajectory, specifying the topology format\n",
    "universe = mda.Universe(topology_file, trajectory_files, topology_format='LAMMPSDUMP')\n",
    "\n",
    "# Set the time step (replace with your actual time step)\n",
    "dt = 0.001  # Time step in seconds\n",
    "\n",
    "# Specify your temperatures in Kelvin\n",
    "temperatures = [1.5, 1.0, 0.9, 0.8, 0.7, 0.65, 0.6, 0.55, 0.5, 0.4750]  # Example temperatures\n",
    "times_to_reach_msd_1 = []  # List to store times\n",
    "\n",
    "# Loop through the temperatures and calculate MSD for each\n",
    "for temp in temperatures:\n",
    "    # Filter atoms based on temperature (modify selection if necessary)\n",
    "    selection_str = 'all'  # Adjust selection as needed\n",
    "    selection = universe.select_atoms(selection_str)  # Get the AtomGroup\n",
    "\n",
    "    # Perform MSD calculation\n",
    "    msd_analysis = msd.EinsteinMSD(selection, dt=dt)\n",
    "    msd_analysis.run()\n",
    "\n",
    "    # Access the timeseries data for MSD\n",
    "    msd_values = msd_analysis.results['timeseries']  # Access the timeseries directly\n",
    "    times = msd_analysis.times  # Access the corresponding times\n",
    "\n",
    "    # Print MSD values for debugging\n",
    "    print(\"MSD values (timeseries):\", msd_values)\n",
    "\n",
    "    # Find the time when MSD first crosses 1\n",
    "    time_at_msd_1 = None\n",
    "    for i, msd_value in enumerate(msd_values):\n",
    "        if msd_value >= 1:  # Look for when MSD first reaches 1\n",
    "            time_at_msd_1 = times[i]\n",
    "            print(f\"At temperature {temp} K, MSD first crosses 1 at time {time_at_msd_1:.3f} seconds.\")\n",
    "            break  # Exit after finding the first occurrence\n",
    "\n",
    "    # Append the time to the list\n",
    "    times_to_reach_msd_1.append(time_at_msd_1)\n",
    "\n",
    "# Prepare data for log-log plot\n",
    "inverse_temperatures = [1 / temp for temp in temperatures]\n",
    "\n",
    "# Create a log-log plot of time vs 1/T\n",
    "plt.figure(figsize=(8, 6))\n",
    "plt.loglog(inverse_temperatures, times_to_reach_msd_1, marker='o')\n",
    "\n",
    "# Label the plot\n",
    "plt.xlabel('1/T (1/K)')\n",
    "plt.ylabel('Time to reach MSD = 1 (s)')\n",
    "plt.title('Time to reach MSD = 1 vs 1/T')\n",
    "plt.grid(True)\n",
    "plt.show()\n"
   ]
  },
  {
   "cell_type": "code",
   "execution_count": null,
   "id": "3abb5028-5ca4-42b4-94e7-5908815d663c",
   "metadata": {},
   "outputs": [],
   "source": []
  }
 ],
 "metadata": {
  "kernelspec": {
   "display_name": "lab_env_2024",
   "language": "python",
   "name": "lab_env_2024"
  },
  "language_info": {
   "codemirror_mode": {
    "name": "ipython",
    "version": 3
   },
   "file_extension": ".py",
   "mimetype": "text/x-python",
   "name": "python",
   "nbconvert_exporter": "python",
   "pygments_lexer": "ipython3",
   "version": "3.9.12"
  }
 },
 "nbformat": 4,
 "nbformat_minor": 5
}
